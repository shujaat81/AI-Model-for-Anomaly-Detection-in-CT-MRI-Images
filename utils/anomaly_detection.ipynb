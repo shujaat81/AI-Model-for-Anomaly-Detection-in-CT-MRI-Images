{
 "cells": [
  {
   "cell_type": "markdown",
   "metadata": {},
   "source": [
    "# Anomaly Detection in Medical Images: CT vs MRI\n",
    "\n",
    "## 1. Introduction\n",
    "\n",
    "### Problem Statement\n",
    "Develop an AI model to detect anomalies in medical images by learning normal patterns and identifying deviations. The goal is to train a model on CT images (considered \"normal\") and detect MRI images as anomalies.\n",
    "\n",
    "### Dataset\n",
    "We'll use the CT to MRI CGAN dataset from Kaggle, which contains pairs of CT and MRI images. This dataset provides a perfect testbed for anomaly detection as we can use one modality as the normal class and the other as anomalies.\n",
    "\n",
    "### Approach\n",
    "We'll implement and compare two unsupervised anomaly detection methods:\n",
    "1. **Autoencoder-based detection**: Train an autoencoder on normal CT images and use reconstruction error to detect anomalies\n",
    "2. **One-Class SVM with deep features**: Extract features using a pre-trained CNN and train a One-Class SVM to detect outliers\n",
    "\n",
    "## 2. Setup and Data Loading\n",
    "\n",
    "### Import Libraries"
   ]
  },
  {
   "cell_type": "code",
   "execution_count": null,
   "metadata": {
    "vscode": {
     "languageId": "plaintext"
    }
   },
   "outputs": [],
   "source": [
    "import os\n",
    "import sys\n",
    "import numpy as np\n",
    "import matplotlib.pyplot as plt\n",
    "import tensorflow as tf\n",
    "from pathlib import Path\n",
    "from sklearn.metrics import roc_curve, precision_recall_curve, auc\n",
    "\n",
    "# Add the current directory to the path to import our modules\n",
    "sys.path.append('.')\n",
    "\n",
    "# Import our custom modules\n",
    "from config import *\n",
    "from data.data_loader import load_dataset, load_test_data\n",
    "from models.autoencoder import build_convolutional_autoencoder\n",
    "from models.feature_extractor import build_resnet_feature_extractor\n",
    "from models.one_class_svm import OneClassSVMDetector\n",
    "from utils.visualization import plot_reconstructions, plot_anomaly_scores"
   ]
  },
  {
   "cell_type": "code",
   "execution_count": null,
   "metadata": {
    "vscode": {
     "languageId": "plaintext"
    }
   },
   "outputs": [],
   "source": [
    "# Check if GPU is available\n",
    "print(\"TensorFlow version:\", tf.__version__)\n",
    "print(\"GPU Available:\", tf.config.list_physical_devices('GPU'))\n",
    "\n",
    "# Limit GPU memory growth to avoid OOM errors\n",
    "gpus = tf.config.experimental.list_physical_devices('GPU')\n",
    "if gpus:\n",
    "    try:\n",
    "        for gpu in gpus:\n",
    "            tf.config.experimental.set_memory_growth(gpu, True)\n",
    "        print(\"GPU memory growth enabled\")\n",
    "    except RuntimeError as e:\n",
    "        print(e)"
   ]
  }
 ],
 "metadata": {
  "language_info": {
   "name": "python"
  }
 },
 "nbformat": 4,
 "nbformat_minor": 2
}
